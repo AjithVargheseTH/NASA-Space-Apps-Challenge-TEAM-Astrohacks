{
 "cells": [
  {
   "cell_type": "code",
   "execution_count": 1,
   "metadata": {},
   "outputs": [],
   "source": [
    "import pandas as pd\n",
    "import seaborn as sns\n",
    "import matplotlib.pyplot as plt"
   ]
  },
  {
   "cell_type": "code",
   "execution_count": 8,
   "metadata": {},
   "outputs": [],
   "source": [
    "df=pd.read_csv(r'C:\\Users\\ajith\\OneDrive\\Desktop\\Python WS\\CO2 Emissions\\Co2Data\\Co2 Canada.csv')"
   ]
  },
  {
   "cell_type": "code",
   "execution_count": 9,
   "metadata": {},
   "outputs": [
    {
     "data": {
      "text/plain": [
       "Years    0\n",
       "Co2      0\n",
       "dtype: int64"
      ]
     },
     "execution_count": 9,
     "metadata": {},
     "output_type": "execute_result"
    }
   ],
   "source": [
    "df.isna().sum()"
   ]
  },
  {
   "cell_type": "code",
   "execution_count": 10,
   "metadata": {},
   "outputs": [
    {
     "data": {
      "text/plain": [
       "Years      int64\n",
       "Co2      float64\n",
       "dtype: object"
      ]
     },
     "execution_count": 10,
     "metadata": {},
     "output_type": "execute_result"
    }
   ],
   "source": [
    "df.dtypes"
   ]
  },
  {
   "cell_type": "code",
   "execution_count": 11,
   "metadata": {},
   "outputs": [
    {
     "data": {
      "text/html": [
       "<div>\n",
       "<style scoped>\n",
       "    .dataframe tbody tr th:only-of-type {\n",
       "        vertical-align: middle;\n",
       "    }\n",
       "\n",
       "    .dataframe tbody tr th {\n",
       "        vertical-align: top;\n",
       "    }\n",
       "\n",
       "    .dataframe thead th {\n",
       "        text-align: right;\n",
       "    }\n",
       "</style>\n",
       "<table border=\"1\" class=\"dataframe\">\n",
       "  <thead>\n",
       "    <tr style=\"text-align: right;\">\n",
       "      <th></th>\n",
       "      <th>Years</th>\n",
       "      <th>Co2</th>\n",
       "    </tr>\n",
       "  </thead>\n",
       "  <tbody>\n",
       "    <tr>\n",
       "      <th>0</th>\n",
       "      <td>1960</td>\n",
       "      <td>10.770847</td>\n",
       "    </tr>\n",
       "    <tr>\n",
       "      <th>1</th>\n",
       "      <td>1961</td>\n",
       "      <td>10.627898</td>\n",
       "    </tr>\n",
       "    <tr>\n",
       "      <th>2</th>\n",
       "      <td>1962</td>\n",
       "      <td>11.130627</td>\n",
       "    </tr>\n",
       "    <tr>\n",
       "      <th>3</th>\n",
       "      <td>1963</td>\n",
       "      <td>11.132102</td>\n",
       "    </tr>\n",
       "    <tr>\n",
       "      <th>4</th>\n",
       "      <td>1964</td>\n",
       "      <td>12.305370</td>\n",
       "    </tr>\n",
       "  </tbody>\n",
       "</table>\n",
       "</div>"
      ],
      "text/plain": [
       "   Years        Co2\n",
       "0   1960  10.770847\n",
       "1   1961  10.627898\n",
       "2   1962  11.130627\n",
       "3   1963  11.132102\n",
       "4   1964  12.305370"
      ]
     },
     "execution_count": 11,
     "metadata": {},
     "output_type": "execute_result"
    }
   ],
   "source": [
    "df.head(5)"
   ]
  },
  {
   "cell_type": "code",
   "execution_count": 12,
   "metadata": {},
   "outputs": [
    {
     "data": {
      "text/plain": [
       "Index(['Years', 'Co2'], dtype='object')"
      ]
     },
     "execution_count": 12,
     "metadata": {},
     "output_type": "execute_result"
    }
   ],
   "source": [
    "df.columns"
   ]
  },
  {
   "cell_type": "code",
   "execution_count": 13,
   "metadata": {},
   "outputs": [
    {
     "name": "stderr",
     "output_type": "stream",
     "text": [
      "C:\\Users\\ajith\\AppData\\Local\\Temp\\ipykernel_23976\\3799448671.py:1: FutureWarning: \n",
      "\n",
      "Passing `palette` without assigning `hue` is deprecated and will be removed in v0.14.0. Assign the `x` variable to `hue` and set `legend=False` for the same effect.\n",
      "\n",
      "  sns.barplot(x=df['Years'],y=df['Co2'],palette='viridis')\n"
     ]
    },
    {
     "data": {
      "text/plain": [
       "([0,\n",
       "  1,\n",
       "  2,\n",
       "  3,\n",
       "  4,\n",
       "  5,\n",
       "  6,\n",
       "  7,\n",
       "  8,\n",
       "  9,\n",
       "  10,\n",
       "  11,\n",
       "  12,\n",
       "  13,\n",
       "  14,\n",
       "  15,\n",
       "  16,\n",
       "  17,\n",
       "  18,\n",
       "  19,\n",
       "  20,\n",
       "  21,\n",
       "  22,\n",
       "  23,\n",
       "  24,\n",
       "  25,\n",
       "  26,\n",
       "  27,\n",
       "  28,\n",
       "  29,\n",
       "  30,\n",
       "  31,\n",
       "  32,\n",
       "  33,\n",
       "  34,\n",
       "  35,\n",
       "  36,\n",
       "  37,\n",
       "  38,\n",
       "  39,\n",
       "  40,\n",
       "  41,\n",
       "  42,\n",
       "  43,\n",
       "  44,\n",
       "  45,\n",
       "  46,\n",
       "  47,\n",
       "  48,\n",
       "  49,\n",
       "  50,\n",
       "  51,\n",
       "  52,\n",
       "  53,\n",
       "  54,\n",
       "  55,\n",
       "  56,\n",
       "  57,\n",
       "  58],\n",
       " [Text(0, 0, '1960'),\n",
       "  Text(1, 0, '1961'),\n",
       "  Text(2, 0, '1962'),\n",
       "  Text(3, 0, '1963'),\n",
       "  Text(4, 0, '1964'),\n",
       "  Text(5, 0, '1965'),\n",
       "  Text(6, 0, '1966'),\n",
       "  Text(7, 0, '1967'),\n",
       "  Text(8, 0, '1968'),\n",
       "  Text(9, 0, '1969'),\n",
       "  Text(10, 0, '1970'),\n",
       "  Text(11, 0, '1971'),\n",
       "  Text(12, 0, '1972'),\n",
       "  Text(13, 0, '1973'),\n",
       "  Text(14, 0, '1974'),\n",
       "  Text(15, 0, '1975'),\n",
       "  Text(16, 0, '1976'),\n",
       "  Text(17, 0, '1977'),\n",
       "  Text(18, 0, '1978'),\n",
       "  Text(19, 0, '1979'),\n",
       "  Text(20, 0, '1980'),\n",
       "  Text(21, 0, '1981'),\n",
       "  Text(22, 0, '1982'),\n",
       "  Text(23, 0, '1983'),\n",
       "  Text(24, 0, '1984'),\n",
       "  Text(25, 0, '1985'),\n",
       "  Text(26, 0, '1986'),\n",
       "  Text(27, 0, '1987'),\n",
       "  Text(28, 0, '1988'),\n",
       "  Text(29, 0, '1989'),\n",
       "  Text(30, 0, '1990'),\n",
       "  Text(31, 0, '1991'),\n",
       "  Text(32, 0, '1992'),\n",
       "  Text(33, 0, '1993'),\n",
       "  Text(34, 0, '1994'),\n",
       "  Text(35, 0, '1995'),\n",
       "  Text(36, 0, '1996'),\n",
       "  Text(37, 0, '1997'),\n",
       "  Text(38, 0, '1998'),\n",
       "  Text(39, 0, '1999'),\n",
       "  Text(40, 0, '2000'),\n",
       "  Text(41, 0, '2001'),\n",
       "  Text(42, 0, '2002'),\n",
       "  Text(43, 0, '2003'),\n",
       "  Text(44, 0, '2004'),\n",
       "  Text(45, 0, '2005'),\n",
       "  Text(46, 0, '2006'),\n",
       "  Text(47, 0, '2007'),\n",
       "  Text(48, 0, '2008'),\n",
       "  Text(49, 0, '2009'),\n",
       "  Text(50, 0, '2010'),\n",
       "  Text(51, 0, '2011'),\n",
       "  Text(52, 0, '2012'),\n",
       "  Text(53, 0, '2013'),\n",
       "  Text(54, 0, '2014'),\n",
       "  Text(55, 0, '2015'),\n",
       "  Text(56, 0, '2016'),\n",
       "  Text(57, 0, '2017'),\n",
       "  Text(58, 0, '2018')])"
      ]
     },
     "execution_count": 13,
     "metadata": {},
     "output_type": "execute_result"
    },
    {
     "data": {
      "image/png": "[encoded data removed]",
      "text/plain": [
       "<Figure size 640x480 with 1 Axes>"
      ]
     },
     "metadata": {},
     "output_type": "display_data"
    }
   ],
   "source": [
    "sns.barplot(x=df['Years'],y=df['Co2'],palette='viridis')\n",
    "plt.xticks(fontsize=2)"
   ]
  },
  {
   "cell_type": "code",
   "execution_count": null,
   "metadata": {},
   "outputs": [],
   "source": []
  }
 ],
 "metadata": {
  "kernelspec": {
   "display_name": "Python 3",
   "language": "python",
   "name": "python3"
  },
  "language_info": {
   "codemirror_mode": {
    "name": "ipython",
    "version": 3
   },
   "file_extension": ".py",
   "mimetype": "text/x-python",
   "name": "python",
   "nbconvert_exporter": "python",
   "pygments_lexer": "ipython3",
   "version": "3.12.4"
  }
 },
 "nbformat": 4,
 "nbformat_minor": 2
}
